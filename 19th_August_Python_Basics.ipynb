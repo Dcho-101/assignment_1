{
 "cells": [
  {
   "cell_type": "markdown",
   "id": "1093352e-fc91-4387-a0b1-33b292c3b535",
   "metadata": {},
   "source": [
    "Python Basic Variable"
   ]
  },
  {
   "cell_type": "markdown",
   "id": "f50a1bfd-b59f-4038-848b-1d68aa412f1f",
   "metadata": {},
   "source": [
    "Question 1"
   ]
  },
  {
   "cell_type": "code",
   "execution_count": 30,
   "id": "0f3c64af-3457-4b79-a169-4725a52e6069",
   "metadata": {},
   "outputs": [],
   "source": [
    "# first we need to assign the values in the taken variables x and y"
   ]
  },
  {
   "cell_type": "code",
   "execution_count": 31,
   "id": "be196722-c9cd-4684-ae1f-efca70503ede",
   "metadata": {},
   "outputs": [],
   "source": [
    "x = 6\n",
    "y = 7"
   ]
  },
  {
   "cell_type": "code",
   "execution_count": null,
   "id": "a3af37e6-9bd2-4144-ac96-ec2bc104753b",
   "metadata": {},
   "outputs": [],
   "source": [
    "# printing the values of the variable x and y before swapping values"
   ]
  },
  {
   "cell_type": "code",
   "execution_count": 39,
   "id": "bc32b1f3-02f7-407b-bf38-aef558bf61ac",
   "metadata": {},
   "outputs": [
    {
     "name": "stdout",
     "output_type": "stream",
     "text": [
      "before swapping, the first variable x is:  7  and the second variable y is:  6\n"
     ]
    }
   ],
   "source": [
    "print('before swapping, the first variable x is: ', x, ' and the second variable y is: ', y)"
   ]
  },
  {
   "cell_type": "code",
   "execution_count": 34,
   "id": "06baf313-d120-4cbc-a736-d14f720b1581",
   "metadata": {},
   "outputs": [],
   "source": [
    "#swapping operation can be done by using mathematical operations\n",
    "#first we can add the values of x and y  and store them to one variable let say x\n",
    "#then subtract the value of y from x and store into y variable\n",
    "#finally new value of x variable can be found by subtracting the value of y from the x"
   ]
  },
  {
   "cell_type": "code",
   "execution_count": 40,
   "id": "9078a51d-9e50-4ec7-a3af-ef77b49f5336",
   "metadata": {},
   "outputs": [],
   "source": [
    "x = x+y"
   ]
  },
  {
   "cell_type": "code",
   "execution_count": 41,
   "id": "0fe8658d-9a9a-417c-894d-d6221c321565",
   "metadata": {},
   "outputs": [],
   "source": [
    "y = x-y"
   ]
  },
  {
   "cell_type": "code",
   "execution_count": 42,
   "id": "1ce1561d-98c7-49d1-a1a8-ba8533c8c363",
   "metadata": {},
   "outputs": [],
   "source": [
    "x = x-y"
   ]
  },
  {
   "cell_type": "code",
   "execution_count": 23,
   "id": "f5eff122-1c09-45a1-8234-213e37e45327",
   "metadata": {},
   "outputs": [],
   "source": [
    "# after execution of the mathematical operation, printing the values of x and y"
   ]
  },
  {
   "cell_type": "code",
   "execution_count": 43,
   "id": "d744d8ee-4ff2-48bf-8177-4f4bf80d0594",
   "metadata": {},
   "outputs": [
    {
     "name": "stdout",
     "output_type": "stream",
     "text": [
      "the value of x and y after swapping is:  6 and 7\n"
     ]
    }
   ],
   "source": [
    "print('the value of x and y after swapping is: ', x, 'and', y)"
   ]
  },
  {
   "cell_type": "code",
   "execution_count": null,
   "id": "447cecec-8688-4a2a-919c-d59f8a7e984c",
   "metadata": {},
   "outputs": [],
   "source": []
  },
  {
   "cell_type": "markdown",
   "id": "449f0edb-08b9-4a93-bc2e-fde36419dfc0",
   "metadata": {},
   "source": [
    "Question 2"
   ]
  },
  {
   "cell_type": "code",
   "execution_count": 44,
   "id": "77fd89be-a2f4-4848-a25b-a6f055fbbce6",
   "metadata": {},
   "outputs": [],
   "source": [
    "# to calculate are of a rectangle, first we need length and width input from user and store the values in the variables l as length and w as width\n",
    "# here, input() function can be used for taking input from the user\n",
    "# also we have to use int() function to make sure the input is only acceptable as integer value."
   ]
  },
  {
   "cell_type": "code",
   "execution_count": 54,
   "id": "81a0bc01-21bb-407e-908b-dd7371eb6b13",
   "metadata": {},
   "outputs": [
    {
     "name": "stdin",
     "output_type": "stream",
     "text": [
      "enter length of the rectangle:  50\n"
     ]
    }
   ],
   "source": [
    "l = int(input('enter length of the rectangle: '))"
   ]
  },
  {
   "cell_type": "code",
   "execution_count": 55,
   "id": "70fbff05-0b98-4743-8d6d-053e70ad19e4",
   "metadata": {},
   "outputs": [
    {
     "name": "stdin",
     "output_type": "stream",
     "text": [
      "enter the width of the rectangle:  20\n"
     ]
    }
   ],
   "source": [
    "w = int(input('enter the width of the rectangle: '))"
   ]
  },
  {
   "cell_type": "code",
   "execution_count": 34,
   "id": "9f7c82c1-b8b4-4b31-9d40-aea7974b5d74",
   "metadata": {},
   "outputs": [],
   "source": [
    "# to calculate the area of the rectangle, we need to use mathematical operations\n",
    "# we know that the area of the rectangle is equals to multiplication of length and width\n",
    "#so in this case we have to multiply l and w \n",
    "# the value of multiplication is stored as area variable"
   ]
  },
  {
   "cell_type": "code",
   "execution_count": 56,
   "id": "f32420e2-4307-4c71-8481-85b2af80787a",
   "metadata": {},
   "outputs": [],
   "source": [
    "area = l*w"
   ]
  },
  {
   "cell_type": "code",
   "execution_count": 48,
   "id": "7bc8fb1f-745f-49f1-bf35-c244dbebfd60",
   "metadata": {},
   "outputs": [],
   "source": [
    "# now printing the area of the rectangle"
   ]
  },
  {
   "cell_type": "code",
   "execution_count": 57,
   "id": "2631ee0a-a880-4a43-91dc-af851297822d",
   "metadata": {},
   "outputs": [
    {
     "name": "stdout",
     "output_type": "stream",
     "text": [
      "area of the rectangle is : 1000\n"
     ]
    }
   ],
   "source": [
    "print('area of the rectangle is :', area)"
   ]
  },
  {
   "cell_type": "code",
   "execution_count": null,
   "id": "57a13b42-f35f-40f5-94f9-1d1356f86723",
   "metadata": {},
   "outputs": [],
   "source": []
  },
  {
   "cell_type": "markdown",
   "id": "7587797f-53ad-4f64-90d3-3705f055e50c",
   "metadata": {},
   "source": [
    "Question 3"
   ]
  },
  {
   "cell_type": "code",
   "execution_count": 50,
   "id": "1d74a058-6269-4533-a33d-c739452995aa",
   "metadata": {},
   "outputs": [],
   "source": [
    "# first we need to take user input celsius temperature and store that value in c_temp\n",
    "# for getting the user input, input() function can be used\n",
    "# for integer value, int() function can be used"
   ]
  },
  {
   "cell_type": "code",
   "execution_count": 51,
   "id": "d2fc4283-a723-4ef1-9ba3-05a733dc2ef4",
   "metadata": {},
   "outputs": [
    {
     "name": "stdin",
     "output_type": "stream",
     "text": [
      "enter the celsius value 56\n"
     ]
    }
   ],
   "source": [
    "c_temp = int(input('enter the celsius value'))"
   ]
  },
  {
   "cell_type": "code",
   "execution_count": 54,
   "id": "d17bfced-708d-4c75-8fca-9804f2844e7b",
   "metadata": {},
   "outputs": [],
   "source": [
    "# for measuring fahrenheit value, mathematical operation can be done in python\n",
    "# for measuring fahrenheit value, the conversion formaula from celsius to fahrenheit can be used.\n",
    "# by multiplying the celsius value with 9/5, and after that, adding 32  can get the fahrenheit value.\n",
    "# the fahrenheit value is stored in the f_temp variable"
   ]
  },
  {
   "cell_type": "code",
   "execution_count": 55,
   "id": "93a8450b-6858-424d-9df5-9a9319ddeb61",
   "metadata": {},
   "outputs": [],
   "source": [
    "f_temp = (c_temp*9/5)+32"
   ]
  },
  {
   "cell_type": "code",
   "execution_count": 51,
   "id": "c873e3cd-8cd2-4251-9c23-ba184fe70836",
   "metadata": {},
   "outputs": [],
   "source": [
    "# after executing the f_temp value, print operation can be used for checking the fahrenheit result"
   ]
  },
  {
   "cell_type": "code",
   "execution_count": 56,
   "id": "b4c3875e-d1cf-4f64-bebf-42e4f147eb1a",
   "metadata": {},
   "outputs": [
    {
     "name": "stdout",
     "output_type": "stream",
     "text": [
      "the f_temp value is:  132.8\n"
     ]
    }
   ],
   "source": [
    "print('the f_temp value is: ', f_temp)"
   ]
  },
  {
   "cell_type": "code",
   "execution_count": null,
   "id": "74225c38-91cc-4a68-9593-3388485a68b8",
   "metadata": {},
   "outputs": [],
   "source": []
  },
  {
   "cell_type": "markdown",
   "id": "4b985ea8-ca53-48bc-9818-8cc117658f43",
   "metadata": {},
   "source": [
    "String Based Questions"
   ]
  },
  {
   "cell_type": "markdown",
   "id": "770c9a11-6331-4706-9e5b-aae30910d5b1",
   "metadata": {},
   "source": [
    "Question 1"
   ]
  },
  {
   "cell_type": "code",
   "execution_count": 57,
   "id": "01b9e5c1-dc5c-4de6-ab71-c7f0297cfb1c",
   "metadata": {},
   "outputs": [],
   "source": [
    "# for taking string as input, we can use input () and str() function and store in a variable a"
   ]
  },
  {
   "cell_type": "code",
   "execution_count": 1,
   "id": "6733aa8d-a94f-4b92-ae75-e86e0380bfdf",
   "metadata": {},
   "outputs": [
    {
     "name": "stdin",
     "output_type": "stream",
     "text": [
      "enter the string value:  abc\n"
     ]
    }
   ],
   "source": [
    "a = str(input('enter the string value: '))"
   ]
  },
  {
   "cell_type": "code",
   "execution_count": 57,
   "id": "995291f4-4d25-4bb2-bc11-b38c85380bbd",
   "metadata": {},
   "outputs": [],
   "source": [
    "# to determine the length of the string, we can use the len() function\n",
    "# we can print the length using print() function"
   ]
  },
  {
   "cell_type": "code",
   "execution_count": 2,
   "id": "eef10ef1-2110-4879-90d9-40d8fbc0d145",
   "metadata": {},
   "outputs": [
    {
     "name": "stdout",
     "output_type": "stream",
     "text": [
      "3\n"
     ]
    }
   ],
   "source": [
    "print(len(a))"
   ]
  },
  {
   "cell_type": "code",
   "execution_count": null,
   "id": "58169b03-b879-4767-8dc2-5cfe1758f3a0",
   "metadata": {},
   "outputs": [],
   "source": []
  },
  {
   "cell_type": "markdown",
   "id": "0abd1e73-d866-41a2-b796-a76c0ea307a9",
   "metadata": {},
   "source": [
    "Question 2"
   ]
  },
  {
   "cell_type": "code",
   "execution_count": 60,
   "id": "af7dc172-8eea-4eaf-a72e-271647c1ed16",
   "metadata": {},
   "outputs": [],
   "source": [
    "# for taking sentence from the user we can use input() function and store in a variable x\n",
    "# since the input needs to be a sentence, so here str() function also be needed. "
   ]
  },
  {
   "cell_type": "code",
   "execution_count": 13,
   "id": "bf13edba-ea32-4b42-9546-a3ac89e5eee4",
   "metadata": {},
   "outputs": [
    {
     "name": "stdin",
     "output_type": "stream",
     "text": [
      "enter the sentence:  the quick brown fox jump over the lazy dog\n"
     ]
    }
   ],
   "source": [
    "str_1 = str(input('enter the sentence: '))"
   ]
  },
  {
   "cell_type": "code",
   "execution_count": 14,
   "id": "815e429c-0b29-4c23-a1c2-40a5258865c6",
   "metadata": {},
   "outputs": [],
   "source": [
    "# checking the number of vowels and store in the variable y\n",
    "#by placing all the vowel in lowercase (as given in the question) and stored into another variable, this query can be done\n",
    "# all vowels are stored in the variable y."
   ]
  },
  {
   "cell_type": "code",
   "execution_count": 23,
   "id": "4c853b76-88ff-4062-8e9a-56476dc5b443",
   "metadata": {},
   "outputs": [],
   "source": [
    "y = 'aeiou'"
   ]
  },
  {
   "cell_type": "code",
   "execution_count": 25,
   "id": "11315401-acd6-4982-b856-de50c0866ff2",
   "metadata": {},
   "outputs": [],
   "source": [
    "# by using count() function, it can be checked how many vowels are present in this string\n",
    "# sum function can be used to achieve total vowel found in the string"
   ]
  },
  {
   "cell_type": "code",
   "execution_count": 26,
   "id": "ff8f1fb8-8f2d-41b6-8451-30e5879387cb",
   "metadata": {},
   "outputs": [
    {
     "name": "stdout",
     "output_type": "stream",
     "text": [
      "11\n"
     ]
    }
   ],
   "source": [
    "count = sum(str_1.count(vowel) for vowel in y)\n",
    "print(count)"
   ]
  },
  {
   "cell_type": "code",
   "execution_count": null,
   "id": "6430bd7d-b2d6-48f3-a98f-0240fd2dfc50",
   "metadata": {},
   "outputs": [],
   "source": []
  },
  {
   "cell_type": "markdown",
   "id": "3a85736e-ef9b-403d-bc3f-6294ba31843c",
   "metadata": {},
   "source": [
    "Question 3"
   ]
  },
  {
   "cell_type": "code",
   "execution_count": 27,
   "id": "846203bb-121b-4ed2-8e86-6f3687f583c1",
   "metadata": {},
   "outputs": [],
   "source": [
    "# first we need a string vlaue to perform the question\n",
    "# here, I use my name as a string"
   ]
  },
  {
   "cell_type": "code",
   "execution_count": 28,
   "id": "fc326d93-2469-4bec-a14d-013a902a836b",
   "metadata": {},
   "outputs": [],
   "source": [
    "str_1 = 'dibyendu'"
   ]
  },
  {
   "cell_type": "code",
   "execution_count": 29,
   "id": "23b7e777-a551-4da7-986e-0c51d1f77e41",
   "metadata": {},
   "outputs": [],
   "source": [
    "# reversing the order of the character can be achieve by using string slicing operation.\n",
    "# by using the first index as -1, and the jump used -1, the reverse order can performed."
   ]
  },
  {
   "cell_type": "code",
   "execution_count": 30,
   "id": "d54b8c56-013a-49e5-a827-9fab40e2b757",
   "metadata": {},
   "outputs": [],
   "source": [
    "new_str = str_1[-1::-1]"
   ]
  },
  {
   "cell_type": "code",
   "execution_count": null,
   "id": "534fbd74-4e07-49cb-88ba-4edae7998c02",
   "metadata": {},
   "outputs": [],
   "source": [
    "# after executing the text slicing, print the new string which is stored in new_str"
   ]
  },
  {
   "cell_type": "code",
   "execution_count": 31,
   "id": "7d604776-4dec-4633-aea4-c9dfa260447f",
   "metadata": {},
   "outputs": [
    {
     "name": "stdout",
     "output_type": "stream",
     "text": [
      "udneybid\n"
     ]
    }
   ],
   "source": [
    "print(new_str)"
   ]
  },
  {
   "cell_type": "code",
   "execution_count": null,
   "id": "c1e2f619-55e7-4f3a-823d-2b64e4f6a099",
   "metadata": {},
   "outputs": [],
   "source": []
  },
  {
   "cell_type": "markdown",
   "id": "cc4409b9-a718-41f2-88b9-c4ae495a072c",
   "metadata": {},
   "source": [
    "Question 4"
   ]
  },
  {
   "cell_type": "code",
   "execution_count": 32,
   "id": "fd09aa44-252a-44e0-878b-582c241596b5",
   "metadata": {},
   "outputs": [],
   "source": [
    "# for executing this operation we need string as input.\n",
    "# here, input() function can be used for taking input from the user."
   ]
  },
  {
   "cell_type": "code",
   "execution_count": 42,
   "id": "75d65dee-112e-4c3d-8e2e-81fc9c559207",
   "metadata": {},
   "outputs": [
    {
     "name": "stdin",
     "output_type": "stream",
     "text": [
      "enter string :  dad\n"
     ]
    }
   ],
   "source": [
    "str_2 = input('enter string : ')"
   ]
  },
  {
   "cell_type": "code",
   "execution_count": 34,
   "id": "d3afe283-4886-45bc-9c25-9dbd8f47dc2e",
   "metadata": {},
   "outputs": [],
   "source": [
    "# palindrome is basically the same value remains if the string are inverted\n",
    "# in this case, we have to check if the string remains same or not after inverting the string"
   ]
  },
  {
   "cell_type": "code",
   "execution_count": 43,
   "id": "946aee7e-6d31-49f3-92fd-99982227814e",
   "metadata": {},
   "outputs": [],
   "source": [
    "# making string reverse (palindrome) and stored it in palindrome string as p_str variable\n",
    "\n",
    "p_str = str_2[::-1]"
   ]
  },
  {
   "cell_type": "code",
   "execution_count": 50,
   "id": "408709db-8136-458c-bc6e-2a44f222f198",
   "metadata": {},
   "outputs": [],
   "source": [
    "# using if-else statement, this palindrome query can be achieved\n",
    "# if the p_string and str_2 value is same then it print palindrome \n",
    "# if the p_string and str_2 value is not same then it will print nothing."
   ]
  },
  {
   "cell_type": "code",
   "execution_count": 45,
   "id": "fd260281-2f54-46dd-b404-c2e411b7e0b5",
   "metadata": {},
   "outputs": [
    {
     "name": "stdout",
     "output_type": "stream",
     "text": [
      "palindrome\n"
     ]
    }
   ],
   "source": [
    "if str_2 == p_str:\n",
    "    print('palindrome')\n",
    "else:\n",
    "    pass"
   ]
  },
  {
   "cell_type": "code",
   "execution_count": null,
   "id": "871e0a91-17d8-48dd-81c3-c434a5078869",
   "metadata": {},
   "outputs": [],
   "source": []
  },
  {
   "cell_type": "markdown",
   "id": "e646082f-53ac-46a9-80ee-bba477523eaf",
   "metadata": {},
   "source": [
    "Question 5"
   ]
  },
  {
   "cell_type": "code",
   "execution_count": 51,
   "id": "2f82df7d-c71b-45fb-93c2-14812c2d030a",
   "metadata": {},
   "outputs": [],
   "source": [
    "# as per the question, creating a program which uses user input string value\n",
    "# in this scenario, we can use input() function"
   ]
  },
  {
   "cell_type": "code",
   "execution_count": 46,
   "id": "6a337fdc-3f6a-49da-b7a0-ae4b41d962d8",
   "metadata": {},
   "outputs": [
    {
     "name": "stdin",
     "output_type": "stream",
     "text": [
      "enter the string input:  today is cloudy weather\n"
     ]
    }
   ],
   "source": [
    "str_3 = input(\"enter the string input: \")"
   ]
  },
  {
   "cell_type": "code",
   "execution_count": 52,
   "id": "41fd9948-9279-4f6d-a2e8-5223272ea455",
   "metadata": {},
   "outputs": [],
   "source": [
    "# for removing all the spaces from a string, replace() function can be used and stored in modified string named m_str"
   ]
  },
  {
   "cell_type": "code",
   "execution_count": 48,
   "id": "66cc65e8-648e-4ffd-a25a-ee9b9ecce473",
   "metadata": {},
   "outputs": [],
   "source": [
    "m_str = str_3.replace(\" \", \"\")"
   ]
  },
  {
   "cell_type": "code",
   "execution_count": 53,
   "id": "2231f1e1-fb51-476e-91af-3ca7db4030e8",
   "metadata": {},
   "outputs": [],
   "source": [
    "# after removing all spaces from string, printing the m_str for checking the outcome"
   ]
  },
  {
   "cell_type": "code",
   "execution_count": 49,
   "id": "4e94a293-c919-44a1-b5ce-6e50176bda95",
   "metadata": {},
   "outputs": [
    {
     "name": "stdout",
     "output_type": "stream",
     "text": [
      "todayiscloudyweather\n"
     ]
    }
   ],
   "source": [
    "print(m_str)"
   ]
  },
  {
   "cell_type": "code",
   "execution_count": null,
   "id": "45dc7a84-a379-45b4-9e18-d74400ddf9c0",
   "metadata": {},
   "outputs": [],
   "source": []
  }
 ],
 "metadata": {
  "kernelspec": {
   "display_name": "Python 3 (ipykernel)",
   "language": "python",
   "name": "python3"
  },
  "language_info": {
   "codemirror_mode": {
    "name": "ipython",
    "version": 3
   },
   "file_extension": ".py",
   "mimetype": "text/x-python",
   "name": "python",
   "nbconvert_exporter": "python",
   "pygments_lexer": "ipython3",
   "version": "3.10.8"
  }
 },
 "nbformat": 4,
 "nbformat_minor": 5
}
